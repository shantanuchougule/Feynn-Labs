{
 "cells": [
  {
   "cell_type": "markdown",
   "metadata": {
    "id": "BeB10ZMav-SW"
   },
   "source": [
    "# Importing Libraries"
   ]
  },
  {
   "cell_type": "code",
   "execution_count": 1,
   "metadata": {
    "colab": {
     "base_uri": "https://localhost:8080/"
    },
    "id": "CkSZ9-gPukrQ",
    "outputId": "fcec2e59-d6e7-4351-cff4-bee2b7450c05"
   },
   "outputs": [
    {
     "name": "stdout",
     "output_type": "stream",
     "text": [
      "Requirement already satisfied: matplotlib in c:\\users\\shantanu\\anaconda3\\envs\\tf\\lib\\site-packages (3.9.2)\n",
      "Requirement already satisfied: contourpy>=1.0.1 in c:\\users\\shantanu\\anaconda3\\envs\\tf\\lib\\site-packages (from matplotlib) (1.3.0)\n",
      "Requirement already satisfied: cycler>=0.10 in c:\\users\\shantanu\\anaconda3\\envs\\tf\\lib\\site-packages (from matplotlib) (0.12.1)\n",
      "Requirement already satisfied: fonttools>=4.22.0 in c:\\users\\shantanu\\anaconda3\\envs\\tf\\lib\\site-packages (from matplotlib) (4.54.1)\n",
      "Requirement already satisfied: kiwisolver>=1.3.1 in c:\\users\\shantanu\\anaconda3\\envs\\tf\\lib\\site-packages (from matplotlib) (1.4.7)\n",
      "Requirement already satisfied: numpy>=1.23 in c:\\users\\shantanu\\anaconda3\\envs\\tf\\lib\\site-packages (from matplotlib) (1.24.3)\n",
      "Requirement already satisfied: packaging>=20.0 in c:\\users\\shantanu\\anaconda3\\envs\\tf\\lib\\site-packages (from matplotlib) (23.0)\n",
      "Requirement already satisfied: pillow>=8 in c:\\users\\shantanu\\anaconda3\\envs\\tf\\lib\\site-packages (from matplotlib) (10.4.0)\n",
      "Requirement already satisfied: pyparsing>=2.3.1 in c:\\users\\shantanu\\anaconda3\\envs\\tf\\lib\\site-packages (from matplotlib) (3.1.4)\n",
      "Requirement already satisfied: python-dateutil>=2.7 in c:\\users\\shantanu\\anaconda3\\envs\\tf\\lib\\site-packages (from matplotlib) (2.8.2)\n",
      "Requirement already satisfied: six>=1.5 in c:\\users\\shantanu\\anaconda3\\envs\\tf\\lib\\site-packages (from python-dateutil>=2.7->matplotlib) (1.16.0)\n",
      "Note: you may need to restart the kernel to use updated packages.\n"
     ]
    }
   ],
   "source": [
    "%pip install matplotlib"
   ]
  },
  {
   "cell_type": "code",
   "execution_count": 2,
   "metadata": {
    "id": "4JsejDm3uxTS"
   },
   "outputs": [],
   "source": [
    "import tensorflow as tf\n",
    "import matplotlib.pyplot as plt"
   ]
  },
  {
   "cell_type": "markdown",
   "metadata": {
    "id": "i2w52yYrvTu9"
   },
   "source": [
    "# Data Preprocessing"
   ]
  },
  {
   "cell_type": "markdown",
   "metadata": {
    "id": "vU3NlcKCwlIZ"
   },
   "source": [
    "# Training Image preprocessing"
   ]
  },
  {
   "cell_type": "code",
   "execution_count": 3,
   "metadata": {
    "colab": {
     "base_uri": "https://localhost:8080/"
    },
    "id": "Kjoa0oUHvQAv",
    "outputId": "35053f0d-5fd0-4b98-cd8f-fa0a88a79e8f"
   },
   "outputs": [
    {
     "name": "stdout",
     "output_type": "stream",
     "text": [
      "Found 3115 files belonging to 36 classes.\n"
     ]
    }
   ],
   "source": [
    "training_set = tf.keras.utils.image_dataset_from_directory(\n",
    "    'C:\\\\Users\\\\Shantanu\\\\Desktop\\\\CNN gemini\\\\dataset\\\\train',\n",
    "    labels=\"inferred\",\n",
    "    label_mode=\"categorical\",\n",
    "    class_names=None,\n",
    "    color_mode=\"rgb\",\n",
    "    batch_size=32,\n",
    "    image_size=(64, 64),\n",
    "    shuffle=True,\n",
    "    seed=None,\n",
    "    validation_split=None,\n",
    "    subset=None,\n",
    "    interpolation=\"bilinear\",\n",
    "    follow_links=False,\n",
    "    crop_to_aspect_ratio=False\n",
    ")\n"
   ]
  },
  {
   "cell_type": "markdown",
   "metadata": {
    "id": "nK9Ev76o0mdJ"
   },
   "source": [
    "# Validation Image Preprocessing"
   ]
  },
  {
   "cell_type": "code",
   "execution_count": 4,
   "metadata": {
    "colab": {
     "base_uri": "https://localhost:8080/"
    },
    "id": "Tocls4IowkNB",
    "outputId": "3b0d8b3d-8552-4e0f-c1f2-7c9f7e28a944"
   },
   "outputs": [
    {
     "name": "stdout",
     "output_type": "stream",
     "text": [
      "Found 351 files belonging to 36 classes.\n"
     ]
    }
   ],
   "source": [
    "validation_set = tf.keras.utils.image_dataset_from_directory(\n",
    "    'C:\\\\Users\\\\Shantanu\\\\Desktop\\\\CNN gemini\\\\dataset\\\\validation',\n",
    "    labels=\"inferred\",\n",
    "    label_mode=\"categorical\",\n",
    "    class_names=None,\n",
    "    color_mode=\"rgb\",\n",
    "    batch_size=32,\n",
    "    image_size=(64, 64),\n",
    "    shuffle=True,\n",
    "    seed=None,\n",
    "    validation_split=None,\n",
    "    subset=None,\n",
    "    interpolation=\"bilinear\",\n",
    "    follow_links=False,\n",
    "    crop_to_aspect_ratio=False\n",
    ")"
   ]
  },
  {
   "cell_type": "markdown",
   "metadata": {
    "id": "OQ_TcbD7r2Cw"
   },
   "source": [
    "# Building Model"
   ]
  },
  {
   "cell_type": "code",
   "execution_count": 5,
   "metadata": {
    "id": "cUMiJrPvsBTU"
   },
   "outputs": [],
   "source": [
    "cnn = tf.keras.models.Sequential()"
   ]
  },
  {
   "cell_type": "markdown",
   "metadata": {
    "id": "mgFWYq7ssLkV"
   },
   "source": [
    "# Building Convolution Layer"
   ]
  },
  {
   "cell_type": "code",
   "execution_count": 6,
   "metadata": {
    "id": "LoaODWuZrHFg"
   },
   "outputs": [],
   "source": [
    "cnn.add(tf.keras.layers.Conv2D(filters=32,kernel_size=3,padding='same',activation='relu',input_shape=[64,64,3]))\n",
    "cnn.add(tf.keras.layers.Conv2D(filters=32,kernel_size=3,activation='relu'))\n",
    "cnn.add(tf.keras.layers.MaxPool2D(pool_size=2,strides=2))"
   ]
  },
  {
   "cell_type": "code",
   "execution_count": 7,
   "metadata": {
    "id": "b5-b7yo8mJHq"
   },
   "outputs": [],
   "source": [
    "cnn.add(tf.keras.layers.Dropout(0.25))"
   ]
  },
  {
   "cell_type": "code",
   "execution_count": 8,
   "metadata": {
    "id": "5-potKmKsOr2"
   },
   "outputs": [],
   "source": [
    "cnn.add(tf.keras.layers.Conv2D(filters=64,kernel_size=3,padding='same',activation='relu'))\n",
    "cnn.add(tf.keras.layers.Conv2D(filters=64,kernel_size=3,activation='relu'))\n",
    "cnn.add(tf.keras.layers.MaxPool2D(pool_size=2,strides=2))"
   ]
  },
  {
   "cell_type": "code",
   "execution_count": 9,
   "metadata": {
    "id": "0B29AmGWmZeV"
   },
   "outputs": [],
   "source": [
    "cnn.add(tf.keras.layers.Dropout(0.25))"
   ]
  },
  {
   "cell_type": "code",
   "execution_count": 10,
   "metadata": {
    "id": "NPZ2NGthuTv5"
   },
   "outputs": [],
   "source": [
    "cnn.add(tf.keras.layers.Flatten())"
   ]
  },
  {
   "cell_type": "code",
   "execution_count": 11,
   "metadata": {
    "id": "demjWjcWuc3q"
   },
   "outputs": [],
   "source": [
    "cnn.add(tf.keras.layers.Dense(units=512,activation='relu'))"
   ]
  },
  {
   "cell_type": "code",
   "execution_count": 12,
   "metadata": {
    "id": "_cD4jLBauZtk"
   },
   "outputs": [],
   "source": [
    "cnn.add(tf.keras.layers.Dense(units=256,activation='relu'))"
   ]
  },
  {
   "cell_type": "code",
   "execution_count": 13,
   "metadata": {
    "id": "2onuZO6YuBF3"
   },
   "outputs": [],
   "source": [
    "cnn.add(tf.keras.layers.Dropout(0.5)) #To avoid overfitting"
   ]
  },
  {
   "cell_type": "code",
   "execution_count": 14,
   "metadata": {
    "id": "toAqflkCuwoS"
   },
   "outputs": [],
   "source": [
    "#Output Layer\n",
    "cnn.add(tf.keras.layers.Dense(units=36,activation='softmax'))"
   ]
  },
  {
   "cell_type": "markdown",
   "metadata": {
    "id": "sYYdAFZDvt1P"
   },
   "source": [
    "# Compiling and Training Phase"
   ]
  },
  {
   "cell_type": "code",
   "execution_count": 15,
   "metadata": {
    "id": "yAcyiEfVvVzw"
   },
   "outputs": [],
   "source": [
    "cnn.compile(optimizer='adam',loss='categorical_crossentropy',metrics=['accuracy'])"
   ]
  },
  {
   "cell_type": "code",
   "execution_count": 16,
   "metadata": {
    "colab": {
     "base_uri": "https://localhost:8080/"
    },
    "id": "X0MROJsdlC5Z",
    "outputId": "59099315-950c-4546-d62d-626f4ca3b80d"
   },
   "outputs": [
    {
     "name": "stdout",
     "output_type": "stream",
     "text": [
      "Model: \"sequential\"\n",
      "_________________________________________________________________\n",
      " Layer (type)                Output Shape              Param #   \n",
      "=================================================================\n",
      " conv2d (Conv2D)             (None, 64, 64, 32)        896       \n",
      "                                                                 \n",
      " conv2d_1 (Conv2D)           (None, 62, 62, 32)        9248      \n",
      "                                                                 \n",
      " max_pooling2d (MaxPooling2D  (None, 31, 31, 32)       0         \n",
      " )                                                               \n",
      "                                                                 \n",
      " dropout (Dropout)           (None, 31, 31, 32)        0         \n",
      "                                                                 \n",
      " conv2d_2 (Conv2D)           (None, 31, 31, 64)        18496     \n",
      "                                                                 \n",
      " conv2d_3 (Conv2D)           (None, 29, 29, 64)        36928     \n",
      "                                                                 \n",
      " max_pooling2d_1 (MaxPooling  (None, 14, 14, 64)       0         \n",
      " 2D)                                                             \n",
      "                                                                 \n",
      " dropout_1 (Dropout)         (None, 14, 14, 64)        0         \n",
      "                                                                 \n",
      " flatten (Flatten)           (None, 12544)             0         \n",
      "                                                                 \n",
      " dense (Dense)               (None, 512)               6423040   \n",
      "                                                                 \n",
      " dense_1 (Dense)             (None, 256)               131328    \n",
      "                                                                 \n",
      " dropout_2 (Dropout)         (None, 256)               0         \n",
      "                                                                 \n",
      " dense_2 (Dense)             (None, 36)                9252      \n",
      "                                                                 \n",
      "=================================================================\n",
      "Total params: 6,629,188\n",
      "Trainable params: 6,629,188\n",
      "Non-trainable params: 0\n",
      "_________________________________________________________________\n"
     ]
    }
   ],
   "source": [
    "cnn.summary()"
   ]
  },
  {
   "cell_type": "code",
   "execution_count": 17,
   "metadata": {
    "colab": {
     "base_uri": "https://localhost:8080/"
    },
    "id": "K3W4dNUrvxIw",
    "outputId": "c4d220dc-40d6-438e-b940-751b3e85b037"
   },
   "outputs": [
    {
     "name": "stdout",
     "output_type": "stream",
     "text": [
      "Epoch 1/32\n",
      "98/98 [==============================] - 91s 811ms/step - loss: 8.4683 - accuracy: 0.0257 - val_loss: 3.5826 - val_accuracy: 0.0285\n",
      "Epoch 2/32\n",
      "98/98 [==============================] - 58s 564ms/step - loss: 3.5824 - accuracy: 0.0295 - val_loss: 3.5798 - val_accuracy: 0.0484\n",
      "Epoch 3/32\n",
      "98/98 [==============================] - 79s 776ms/step - loss: 3.4854 - accuracy: 0.0482 - val_loss: 3.3198 - val_accuracy: 0.0798\n",
      "Epoch 4/32\n",
      "98/98 [==============================] - 58s 563ms/step - loss: 3.3730 - accuracy: 0.0584 - val_loss: 3.2392 - val_accuracy: 0.1054\n",
      "Epoch 5/32\n",
      "98/98 [==============================] - 60s 580ms/step - loss: 3.2409 - accuracy: 0.0873 - val_loss: 3.0845 - val_accuracy: 0.1481\n",
      "Epoch 6/32\n",
      "98/98 [==============================] - 60s 580ms/step - loss: 3.1406 - accuracy: 0.1197 - val_loss: 2.8657 - val_accuracy: 0.2251\n",
      "Epoch 7/32\n",
      "98/98 [==============================] - 58s 559ms/step - loss: 3.1061 - accuracy: 0.1233 - val_loss: 2.8529 - val_accuracy: 0.2507\n",
      "Epoch 8/32\n",
      "98/98 [==============================] - 58s 561ms/step - loss: 2.9198 - accuracy: 0.1711 - val_loss: 2.5841 - val_accuracy: 0.3248\n",
      "Epoch 9/32\n",
      "98/98 [==============================] - 58s 561ms/step - loss: 2.7743 - accuracy: 0.2241 - val_loss: 2.4390 - val_accuracy: 0.3789\n",
      "Epoch 10/32\n",
      "98/98 [==============================] - 58s 563ms/step - loss: 2.6685 - accuracy: 0.2411 - val_loss: 2.4109 - val_accuracy: 0.3789\n",
      "Epoch 11/32\n",
      "98/98 [==============================] - 58s 563ms/step - loss: 2.5287 - accuracy: 0.2921 - val_loss: 2.0827 - val_accuracy: 0.4701\n",
      "Epoch 12/32\n",
      "98/98 [==============================] - 63s 615ms/step - loss: 2.4438 - accuracy: 0.3165 - val_loss: 2.0195 - val_accuracy: 0.4786\n",
      "Epoch 13/32\n",
      "98/98 [==============================] - 57s 557ms/step - loss: 2.3430 - accuracy: 0.3403 - val_loss: 1.9172 - val_accuracy: 0.5043\n",
      "Epoch 14/32\n",
      "98/98 [==============================] - 59s 572ms/step - loss: 2.2848 - accuracy: 0.3586 - val_loss: 1.9069 - val_accuracy: 0.5100\n",
      "Epoch 15/32\n",
      "98/98 [==============================] - 63s 602ms/step - loss: 2.1875 - accuracy: 0.3936 - val_loss: 1.8938 - val_accuracy: 0.4843\n",
      "Epoch 16/32\n",
      "98/98 [==============================] - 56s 546ms/step - loss: 2.1043 - accuracy: 0.4087 - val_loss: 1.8338 - val_accuracy: 0.5214\n",
      "Epoch 17/32\n",
      "98/98 [==============================] - 57s 553ms/step - loss: 2.0161 - accuracy: 0.4283 - val_loss: 1.7456 - val_accuracy: 0.5470\n",
      "Epoch 18/32\n",
      "98/98 [==============================] - 57s 552ms/step - loss: 1.9838 - accuracy: 0.4379 - val_loss: 1.5296 - val_accuracy: 0.6154\n",
      "Epoch 19/32\n",
      "98/98 [==============================] - 56s 545ms/step - loss: 1.9123 - accuracy: 0.4575 - val_loss: 1.5360 - val_accuracy: 0.6040\n",
      "Epoch 20/32\n",
      "98/98 [==============================] - 56s 549ms/step - loss: 1.7713 - accuracy: 0.4986 - val_loss: 1.3296 - val_accuracy: 0.6610\n",
      "Epoch 21/32\n",
      "98/98 [==============================] - 57s 550ms/step - loss: 1.7711 - accuracy: 0.4989 - val_loss: 1.4480 - val_accuracy: 0.6239\n",
      "Epoch 22/32\n",
      "98/98 [==============================] - 57s 553ms/step - loss: 1.6780 - accuracy: 0.5258 - val_loss: 1.2084 - val_accuracy: 0.6781\n",
      "Epoch 23/32\n",
      "98/98 [==============================] - 56s 543ms/step - loss: 1.6136 - accuracy: 0.5445 - val_loss: 1.1750 - val_accuracy: 0.6923\n",
      "Epoch 24/32\n",
      "98/98 [==============================] - 56s 544ms/step - loss: 1.5329 - accuracy: 0.5602 - val_loss: 1.1936 - val_accuracy: 0.6866\n",
      "Epoch 25/32\n",
      "98/98 [==============================] - 59s 579ms/step - loss: 1.4616 - accuracy: 0.5849 - val_loss: 1.1113 - val_accuracy: 0.7179\n",
      "Epoch 26/32\n",
      "98/98 [==============================] - 57s 550ms/step - loss: 1.4237 - accuracy: 0.5907 - val_loss: 0.9978 - val_accuracy: 0.7407\n",
      "Epoch 27/32\n",
      "98/98 [==============================] - 57s 560ms/step - loss: 1.3865 - accuracy: 0.6010 - val_loss: 0.9001 - val_accuracy: 0.7521\n",
      "Epoch 28/32\n",
      "98/98 [==============================] - 56s 542ms/step - loss: 1.3451 - accuracy: 0.6096 - val_loss: 0.8520 - val_accuracy: 0.7664\n",
      "Epoch 29/32\n",
      "98/98 [==============================] - 56s 544ms/step - loss: 1.2712 - accuracy: 0.6398 - val_loss: 0.9109 - val_accuracy: 0.7892\n",
      "Epoch 30/32\n",
      "98/98 [==============================] - 57s 556ms/step - loss: 1.2216 - accuracy: 0.6443 - val_loss: 0.8212 - val_accuracy: 0.7806\n",
      "Epoch 31/32\n",
      "98/98 [==============================] - 56s 543ms/step - loss: 1.1445 - accuracy: 0.6639 - val_loss: 0.8085 - val_accuracy: 0.7778\n",
      "Epoch 32/32\n",
      "98/98 [==============================] - 57s 557ms/step - loss: 1.1448 - accuracy: 0.6703 - val_loss: 0.8116 - val_accuracy: 0.7892\n"
     ]
    }
   ],
   "source": [
    "training_history = cnn.fit(x=training_set,validation_data=validation_set,epochs=32)"
   ]
  },
  {
   "cell_type": "markdown",
   "metadata": {
    "id": "19E3mwj1phoW"
   },
   "source": [
    "# Evaluating Model"
   ]
  },
  {
   "cell_type": "code",
   "execution_count": 18,
   "metadata": {
    "colab": {
     "base_uri": "https://localhost:8080/"
    },
    "id": "iY6o3uxjpgl5",
    "outputId": "372a2b25-5cdd-47c0-da77-1e9a5ee84f6c"
   },
   "outputs": [
    {
     "name": "stdout",
     "output_type": "stream",
     "text": [
      "98/98 [==============================] - 38s 363ms/step - loss: 0.8533 - accuracy: 0.7589\n",
      "Training accuracy: 0.7589085102081299\n"
     ]
    }
   ],
   "source": [
    "#Training set Accuracy\n",
    "train_loss, train_acc = cnn.evaluate(training_set)\n",
    "print('Training accuracy:', train_acc)"
   ]
  },
  {
   "cell_type": "code",
   "execution_count": 19,
   "metadata": {
    "colab": {
     "base_uri": "https://localhost:8080/"
    },
    "id": "5SaQgd7bpgwl",
    "outputId": "0e82ce04-bdf8-4b31-bc00-cbb7198df7e7"
   },
   "outputs": [
    {
     "name": "stdout",
     "output_type": "stream",
     "text": [
      "11/11 [==============================] - 5s 136ms/step - loss: 0.8116 - accuracy: 0.7892\n",
      "Validation accuracy: 0.7891737818717957\n"
     ]
    }
   ],
   "source": [
    "#Validation set Accuracy\n",
    "val_loss, val_acc = cnn.evaluate(validation_set)\n",
    "print('Validation accuracy:', val_acc)"
   ]
  },
  {
   "cell_type": "markdown",
   "metadata": {
    "id": "Qxp0xsjVBGec"
   },
   "source": [
    "# Saving Model"
   ]
  },
  {
   "cell_type": "code",
   "execution_count": 20,
   "metadata": {
    "id": "EEUrBzCrxKt_"
   },
   "outputs": [],
   "source": [
    "cnn.save('trained_model.h5')"
   ]
  },
  {
   "cell_type": "code",
   "execution_count": 21,
   "metadata": {
    "colab": {
     "base_uri": "https://localhost:8080/"
    },
    "id": "BM-sILNMBwh1",
    "outputId": "3d1eb8a8-2742-4b1b-f8f3-10c1f0803975"
   },
   "outputs": [
    {
     "data": {
      "text/plain": [
       "{'loss': [8.468344688415527,\n",
       "  3.582423210144043,\n",
       "  3.4854049682617188,\n",
       "  3.372969150543213,\n",
       "  3.240912437438965,\n",
       "  3.140580892562866,\n",
       "  3.1061155796051025,\n",
       "  2.919790744781494,\n",
       "  2.7743313312530518,\n",
       "  2.668466329574585,\n",
       "  2.5287415981292725,\n",
       "  2.443774461746216,\n",
       "  2.3430464267730713,\n",
       "  2.284817695617676,\n",
       "  2.1875481605529785,\n",
       "  2.1043457984924316,\n",
       "  2.0161492824554443,\n",
       "  1.9837607145309448,\n",
       "  1.912282943725586,\n",
       "  1.7713124752044678,\n",
       "  1.7711009979248047,\n",
       "  1.6780365705490112,\n",
       "  1.6136330366134644,\n",
       "  1.532868504524231,\n",
       "  1.4615576267242432,\n",
       "  1.4236518144607544,\n",
       "  1.3864511251449585,\n",
       "  1.3450980186462402,\n",
       "  1.2712326049804688,\n",
       "  1.2215845584869385,\n",
       "  1.144477367401123,\n",
       "  1.1448063850402832],\n",
       " 'accuracy': [0.025682182982563972,\n",
       "  0.029534511268138885,\n",
       "  0.04815409332513809,\n",
       "  0.05842696502804756,\n",
       "  0.08731941878795624,\n",
       "  0.11974317580461502,\n",
       "  0.12327447533607483,\n",
       "  0.17110754549503326,\n",
       "  0.224077045917511,\n",
       "  0.24109148979187012,\n",
       "  0.2921348214149475,\n",
       "  0.3165329098701477,\n",
       "  0.3402889370918274,\n",
       "  0.35858747363090515,\n",
       "  0.3935794532299042,\n",
       "  0.40866774320602417,\n",
       "  0.42825040221214294,\n",
       "  0.4378812313079834,\n",
       "  0.4574638903141022,\n",
       "  0.49855539202690125,\n",
       "  0.4988763928413391,\n",
       "  0.5258427262306213,\n",
       "  0.544462263584137,\n",
       "  0.5601926445960999,\n",
       "  0.5849117040634155,\n",
       "  0.5906901955604553,\n",
       "  0.6009630560874939,\n",
       "  0.609630823135376,\n",
       "  0.639807403087616,\n",
       "  0.6443017721176147,\n",
       "  0.6638844013214111,\n",
       "  0.6703049540519714],\n",
       " 'val_loss': [3.582601308822632,\n",
       "  3.5797982215881348,\n",
       "  3.3197877407073975,\n",
       "  3.2391743659973145,\n",
       "  3.084507703781128,\n",
       "  2.865668296813965,\n",
       "  2.852910280227661,\n",
       "  2.584108352661133,\n",
       "  2.439013957977295,\n",
       "  2.4108901023864746,\n",
       "  2.08268404006958,\n",
       "  2.019545555114746,\n",
       "  1.917170763015747,\n",
       "  1.9068588018417358,\n",
       "  1.8937571048736572,\n",
       "  1.8338441848754883,\n",
       "  1.7455607652664185,\n",
       "  1.5295535326004028,\n",
       "  1.536015272140503,\n",
       "  1.3295681476593018,\n",
       "  1.4479954242706299,\n",
       "  1.2083797454833984,\n",
       "  1.1749804019927979,\n",
       "  1.1935654878616333,\n",
       "  1.111263632774353,\n",
       "  0.9977690577507019,\n",
       "  0.9001089930534363,\n",
       "  0.8519908785820007,\n",
       "  0.9109023213386536,\n",
       "  0.8211930990219116,\n",
       "  0.8084858655929565,\n",
       "  0.811554491519928],\n",
       " 'val_accuracy': [0.028490029275417328,\n",
       "  0.04843304678797722,\n",
       "  0.07977207750082016,\n",
       "  0.10541310906410217,\n",
       "  0.14814814925193787,\n",
       "  0.22507122159004211,\n",
       "  0.25071224570274353,\n",
       "  0.32478633522987366,\n",
       "  0.3789173662662506,\n",
       "  0.3789173662662506,\n",
       "  0.470085471868515,\n",
       "  0.47863247990608215,\n",
       "  0.504273533821106,\n",
       "  0.5099714994430542,\n",
       "  0.4843304753303528,\n",
       "  0.5213675498962402,\n",
       "  0.5470085740089417,\n",
       "  0.6153846383094788,\n",
       "  0.6039885878562927,\n",
       "  0.6609686613082886,\n",
       "  0.6239316463470459,\n",
       "  0.6780626773834229,\n",
       "  0.692307710647583,\n",
       "  0.68660968542099,\n",
       "  0.7179487347602844,\n",
       "  0.7407407164573669,\n",
       "  0.752136766910553,\n",
       "  0.7663817405700684,\n",
       "  0.7891737818717957,\n",
       "  0.7806267738342285,\n",
       "  0.7777777910232544,\n",
       "  0.7891737818717957]}"
      ]
     },
     "execution_count": 21,
     "metadata": {},
     "output_type": "execute_result"
    }
   ],
   "source": [
    "training_history.history #Return Dictionary of history"
   ]
  },
  {
   "cell_type": "code",
   "execution_count": 2,
   "metadata": {
    "colab": {
     "base_uri": "https://localhost:8080/"
    },
    "id": "w8PnAYbuCNhu",
    "outputId": "665cd52d-4777-4e7e-9c04-cc7716c5fb62"
   },
   "outputs": [
    {
     "name": "stdout",
     "output_type": "stream",
     "text": [
      "dict_keys(['loss', 'accuracy', 'val_loss', 'val_accuracy'])\n"
     ]
    }
   ],
   "source": [
    "import json\n",
    "\n",
    "# Load the training history from the JSON file\n",
    "with open('training_hist.json', 'r') as f:\n",
    "    loaded_history = json.load(f)\n",
    "\n",
    "# Print the keys to verify the contents\n",
    "print(loaded_history.keys())"
   ]
  },
  {
   "cell_type": "markdown",
   "metadata": {
    "id": "ZwTEcIavCjZ8"
   },
   "source": [
    "# Calculating Accuracy of Model Achieved on Validation set"
   ]
  },
  {
   "cell_type": "code",
   "execution_count": 24,
   "metadata": {
    "colab": {
     "base_uri": "https://localhost:8080/"
    },
    "id": "Z8Q2t6FXCUzR",
    "outputId": "c4d17e44-87e0-4d1a-adf9-419e81c704ce"
   },
   "outputs": [
    {
     "name": "stdout",
     "output_type": "stream",
     "text": [
      "Validation set Accuracy: 78.91737818717957 %\n"
     ]
    }
   ],
   "source": [
    "print(\"Validation set Accuracy: {} %\".format(training_history.history['val_accuracy'][-1]*100))"
   ]
  },
  {
   "cell_type": "markdown",
   "metadata": {
    "id": "qNIMPXKFEZ5B"
   },
   "source": [
    "# Accuracy Visualization"
   ]
  },
  {
   "cell_type": "markdown",
   "metadata": {
    "id": "Mdg9Zjp2EfSa"
   },
   "source": [
    "# Training Visualization"
   ]
  },
  {
   "cell_type": "code",
   "execution_count": 25,
   "metadata": {
    "id": "fAvJjfBAFNJx"
   },
   "outputs": [
    {
     "data": {
      "text/plain": [
       "[0.025682182982563972,\n",
       " 0.029534511268138885,\n",
       " 0.04815409332513809,\n",
       " 0.05842696502804756,\n",
       " 0.08731941878795624,\n",
       " 0.11974317580461502,\n",
       " 0.12327447533607483,\n",
       " 0.17110754549503326,\n",
       " 0.224077045917511,\n",
       " 0.24109148979187012,\n",
       " 0.2921348214149475,\n",
       " 0.3165329098701477,\n",
       " 0.3402889370918274,\n",
       " 0.35858747363090515,\n",
       " 0.3935794532299042,\n",
       " 0.40866774320602417,\n",
       " 0.42825040221214294,\n",
       " 0.4378812313079834,\n",
       " 0.4574638903141022,\n",
       " 0.49855539202690125,\n",
       " 0.4988763928413391,\n",
       " 0.5258427262306213,\n",
       " 0.544462263584137,\n",
       " 0.5601926445960999,\n",
       " 0.5849117040634155,\n",
       " 0.5906901955604553,\n",
       " 0.6009630560874939,\n",
       " 0.609630823135376,\n",
       " 0.639807403087616,\n",
       " 0.6443017721176147,\n",
       " 0.6638844013214111,\n",
       " 0.6703049540519714]"
      ]
     },
     "execution_count": 25,
     "metadata": {},
     "output_type": "execute_result"
    }
   ],
   "source": [
    "training_history.history['accuracy']"
   ]
  },
  {
   "cell_type": "code",
   "execution_count": 26,
   "metadata": {
    "colab": {
     "base_uri": "https://localhost:8080/",
     "height": 295
    },
    "id": "gfKdieuJCt3m",
    "outputId": "00c39bea-d59d-48bd-a9bb-f819e1313252"
   },
   "outputs": [],
   "source": [
    "# import matplotlib.pyplot as plt\n",
    "\n",
    "# epochs = [i for i in range(1, 33)]\n",
    "# plt.plot(epochs, training_history.history['accuracy'], color='red')\n",
    "# plt.xlabel('No. of Epochs')\n",
    "# plt.ylabel('Training Accuracy')\n",
    "# plt.title('Visualization of Training Accuracy Result')\n",
    "# plt.show()\n"
   ]
  },
  {
   "cell_type": "markdown",
   "metadata": {
    "id": "FbOcpJL1FvJG"
   },
   "source": [
    "# Validation Accuracy"
   ]
  },
  {
   "cell_type": "code",
   "execution_count": 27,
   "metadata": {
    "colab": {
     "base_uri": "https://localhost:8080/",
     "height": 295
    },
    "id": "ZXyC9WAJEs-B",
    "outputId": "a7d14eba-7481-4b55-c7bb-a0e3821ee77e"
   },
   "outputs": [],
   "source": [
    "# plt.plot(epochs,training_history.history['val_accuracy'],color='blue')\n",
    "# plt.xlabel('No. of Epochs')\n",
    "# plt.ylabel('Validation Accuracy')\n",
    "# plt.title('Visualization of Validation Accuracy Result')\n",
    "# plt.show()"
   ]
  },
  {
   "cell_type": "markdown",
   "metadata": {
    "id": "IJfYwGbmASaL"
   },
   "source": [
    "# Test set Evaluation"
   ]
  },
  {
   "cell_type": "code",
   "execution_count": 28,
   "metadata": {
    "colab": {
     "base_uri": "https://localhost:8080/"
    },
    "id": "fGs_0S4AAUj_",
    "outputId": "6e85b3b3-0784-47c9-8001-f1d5213cdfd6"
   },
   "outputs": [
    {
     "name": "stdout",
     "output_type": "stream",
     "text": [
      "Found 359 files belonging to 36 classes.\n"
     ]
    }
   ],
   "source": [
    "import tensorflow as tf\n",
    "test_set = tf.keras.utils.image_dataset_from_directory(\n",
    "    r'C:\\Users\\Shantanu\\Desktop\\CNN gemini\\dataset\\test',\n",
    "    labels=\"inferred\",\n",
    "    label_mode=\"categorical\",\n",
    "    class_names=None,\n",
    "    color_mode=\"rgb\",\n",
    "    batch_size=32,\n",
    "    image_size=(64, 64),\n",
    "    shuffle=True,\n",
    "    seed=None,\n",
    "    validation_split=None,\n",
    "    subset=None,\n",
    "    interpolation=\"bilinear\",\n",
    "    follow_links=False,\n",
    "    crop_to_aspect_ratio=False\n",
    ")"
   ]
  },
  {
   "cell_type": "code",
   "execution_count": 29,
   "metadata": {
    "colab": {
     "base_uri": "https://localhost:8080/"
    },
    "id": "GdMcF4vnAYuM",
    "outputId": "773cc9ab-c1e7-4a0b-ecf0-ee0e1ee50efc"
   },
   "outputs": [
    {
     "name": "stdout",
     "output_type": "stream",
     "text": [
      "12/12 [==============================] - 5s 173ms/step - loss: 0.8213 - accuracy: 0.7883\n",
      "Test accuracy: 78.83008122444153\n"
     ]
    }
   ],
   "source": [
    "test_loss,test_acc = cnn.evaluate(test_set)\n",
    "print('Test accuracy:', test_acc*100)"
   ]
  },
  {
   "cell_type": "code",
   "execution_count": null,
   "metadata": {},
   "outputs": [],
   "source": []
  }
 ],
 "metadata": {
  "colab": {
   "provenance": []
  },
  "kernelspec": {
   "display_name": "tf",
   "language": "python",
   "name": "tf"
  },
  "language_info": {
   "codemirror_mode": {
    "name": "ipython",
    "version": 3
   },
   "file_extension": ".py",
   "mimetype": "text/x-python",
   "name": "python",
   "nbconvert_exporter": "python",
   "pygments_lexer": "ipython3",
   "version": "3.10.11"
  }
 },
 "nbformat": 4,
 "nbformat_minor": 1
}
